{
  "nbformat": 4,
  "nbformat_minor": 0,
  "metadata": {
    "colab": {
      "name": "Homework.ipynb",
      "provenance": [],
      "authorship_tag": "ABX9TyOaveh5IbRGX8fIi8uSll+T"
    },
    "kernelspec": {
      "name": "python3",
      "display_name": "Python 3"
    },
    "language_info": {
      "name": "python"
    }
  },
  "cells": [
    {
      "cell_type": "markdown",
      "metadata": {
        "id": "YWTVwxqr9QlT"
      },
      "source": [
        "# Homework\n",
        "\n",
        "## Dataset\n",
        "\n",
        "In this homework, we will continue the New York City Airbnb Open Data. You can take it from [Kaggle](https://www.kaggle.com/dgomonov/new-york-city-airbnb-open-data?select=AB_NYC_2019.csv) or download from [here](https://raw.githubusercontent.com/alexeygrigorev/datasets/master/AB_NYC_2019.csv) if you don't want to sign up to Kaggle.\n",
        "\n",
        "We'll keep working with the 'price' variable, and we'll transform it to a classification task."
      ]
    },
    {
      "cell_type": "code",
      "metadata": {
        "colab": {
          "base_uri": "https://localhost:8080/"
        },
        "id": "3mdB5I_Y9JIA",
        "outputId": "79181b3d-a367-4427-aa44-ee1b5d918b79"
      },
      "source": [
        "!wget -O data.csv https://raw.githubusercontent.com/alexeygrigorev/datasets/master/AB_NYC_2019.csv"
      ],
      "execution_count": 1,
      "outputs": [
        {
          "output_type": "stream",
          "name": "stdout",
          "text": [
            "--2021-09-27 13:45:58--  https://raw.githubusercontent.com/alexeygrigorev/datasets/master/AB_NYC_2019.csv\n",
            "Resolving raw.githubusercontent.com (raw.githubusercontent.com)... 185.199.108.133, 185.199.109.133, 185.199.110.133, ...\n",
            "Connecting to raw.githubusercontent.com (raw.githubusercontent.com)|185.199.108.133|:443... connected.\n",
            "HTTP request sent, awaiting response... 200 OK\n",
            "Length: 7077973 (6.8M) [text/plain]\n",
            "Saving to: ‘data.csv’\n",
            "\n",
            "\rdata.csv              0%[                    ]       0  --.-KB/s               \rdata.csv            100%[===================>]   6.75M  --.-KB/s    in 0.04s   \n",
            "\n",
            "2021-09-27 13:45:58 (192 MB/s) - ‘data.csv’ saved [7077973/7077973]\n",
            "\n"
          ]
        }
      ]
    },
    {
      "cell_type": "code",
      "metadata": {
        "id": "2UcsX9H797WK"
      },
      "source": [
        "import pandas as pd\n",
        "import numpy as np\n",
        "\n",
        "from sklearn.model_selection import train_test_split\n",
        "from sklearn.metrics import mutual_info_score, accuracy_score\n",
        "from sklearn.linear_model import LogisticRegression"
      ],
      "execution_count": 2,
      "outputs": []
    },
    {
      "cell_type": "code",
      "metadata": {
        "id": "YgtSXTSK9n1m"
      },
      "source": [
        "cols_to_be_used = ['neighbourhood_group', 'room_type','latitude','longitude','price','minimum_nights','number_of_reviews','reviews_per_month','calculated_host_listings_count','availability_365']"
      ],
      "execution_count": 3,
      "outputs": []
    },
    {
      "cell_type": "code",
      "metadata": {
        "colab": {
          "base_uri": "https://localhost:8080/",
          "height": 206
        },
        "id": "md6EQ98T95XJ",
        "outputId": "5cba5605-4ed1-49cf-ab2d-a36b9f37934c"
      },
      "source": [
        "df = pd.read_csv('/content/data.csv', usecols=cols_to_be_used)\n",
        "df.head()"
      ],
      "execution_count": 4,
      "outputs": [
        {
          "output_type": "execute_result",
          "data": {
            "text/html": [
              "<div>\n",
              "<style scoped>\n",
              "    .dataframe tbody tr th:only-of-type {\n",
              "        vertical-align: middle;\n",
              "    }\n",
              "\n",
              "    .dataframe tbody tr th {\n",
              "        vertical-align: top;\n",
              "    }\n",
              "\n",
              "    .dataframe thead th {\n",
              "        text-align: right;\n",
              "    }\n",
              "</style>\n",
              "<table border=\"1\" class=\"dataframe\">\n",
              "  <thead>\n",
              "    <tr style=\"text-align: right;\">\n",
              "      <th></th>\n",
              "      <th>neighbourhood_group</th>\n",
              "      <th>latitude</th>\n",
              "      <th>longitude</th>\n",
              "      <th>room_type</th>\n",
              "      <th>price</th>\n",
              "      <th>minimum_nights</th>\n",
              "      <th>number_of_reviews</th>\n",
              "      <th>reviews_per_month</th>\n",
              "      <th>calculated_host_listings_count</th>\n",
              "      <th>availability_365</th>\n",
              "    </tr>\n",
              "  </thead>\n",
              "  <tbody>\n",
              "    <tr>\n",
              "      <th>0</th>\n",
              "      <td>Brooklyn</td>\n",
              "      <td>40.64749</td>\n",
              "      <td>-73.97237</td>\n",
              "      <td>Private room</td>\n",
              "      <td>149</td>\n",
              "      <td>1</td>\n",
              "      <td>9</td>\n",
              "      <td>0.21</td>\n",
              "      <td>6</td>\n",
              "      <td>365</td>\n",
              "    </tr>\n",
              "    <tr>\n",
              "      <th>1</th>\n",
              "      <td>Manhattan</td>\n",
              "      <td>40.75362</td>\n",
              "      <td>-73.98377</td>\n",
              "      <td>Entire home/apt</td>\n",
              "      <td>225</td>\n",
              "      <td>1</td>\n",
              "      <td>45</td>\n",
              "      <td>0.38</td>\n",
              "      <td>2</td>\n",
              "      <td>355</td>\n",
              "    </tr>\n",
              "    <tr>\n",
              "      <th>2</th>\n",
              "      <td>Manhattan</td>\n",
              "      <td>40.80902</td>\n",
              "      <td>-73.94190</td>\n",
              "      <td>Private room</td>\n",
              "      <td>150</td>\n",
              "      <td>3</td>\n",
              "      <td>0</td>\n",
              "      <td>NaN</td>\n",
              "      <td>1</td>\n",
              "      <td>365</td>\n",
              "    </tr>\n",
              "    <tr>\n",
              "      <th>3</th>\n",
              "      <td>Brooklyn</td>\n",
              "      <td>40.68514</td>\n",
              "      <td>-73.95976</td>\n",
              "      <td>Entire home/apt</td>\n",
              "      <td>89</td>\n",
              "      <td>1</td>\n",
              "      <td>270</td>\n",
              "      <td>4.64</td>\n",
              "      <td>1</td>\n",
              "      <td>194</td>\n",
              "    </tr>\n",
              "    <tr>\n",
              "      <th>4</th>\n",
              "      <td>Manhattan</td>\n",
              "      <td>40.79851</td>\n",
              "      <td>-73.94399</td>\n",
              "      <td>Entire home/apt</td>\n",
              "      <td>80</td>\n",
              "      <td>10</td>\n",
              "      <td>9</td>\n",
              "      <td>0.10</td>\n",
              "      <td>1</td>\n",
              "      <td>0</td>\n",
              "    </tr>\n",
              "  </tbody>\n",
              "</table>\n",
              "</div>"
            ],
            "text/plain": [
              "  neighbourhood_group  ...  availability_365\n",
              "0            Brooklyn  ...               365\n",
              "1           Manhattan  ...               355\n",
              "2           Manhattan  ...               365\n",
              "3            Brooklyn  ...               194\n",
              "4           Manhattan  ...                 0\n",
              "\n",
              "[5 rows x 10 columns]"
            ]
          },
          "metadata": {},
          "execution_count": 4
        }
      ]
    },
    {
      "cell_type": "code",
      "metadata": {
        "colab": {
          "base_uri": "https://localhost:8080/"
        },
        "id": "k56wF8tLYxoe",
        "outputId": "04624db8-8e82-44d0-e095-e5771591456e"
      },
      "source": [
        "df.isnull().sum()"
      ],
      "execution_count": 5,
      "outputs": [
        {
          "output_type": "execute_result",
          "data": {
            "text/plain": [
              "neighbourhood_group                   0\n",
              "latitude                              0\n",
              "longitude                             0\n",
              "room_type                             0\n",
              "price                                 0\n",
              "minimum_nights                        0\n",
              "number_of_reviews                     0\n",
              "reviews_per_month                 10052\n",
              "calculated_host_listings_count        0\n",
              "availability_365                      0\n",
              "dtype: int64"
            ]
          },
          "metadata": {},
          "execution_count": 5
        }
      ]
    },
    {
      "cell_type": "code",
      "metadata": {
        "colab": {
          "base_uri": "https://localhost:8080/"
        },
        "id": "C5oiIx5hYnqw",
        "outputId": "3d2292aa-716a-4f34-c1ba-27bd801b22c2"
      },
      "source": [
        "# Fill na with 0\n",
        "df = df.fillna(0)\n",
        "df.isnull().sum()"
      ],
      "execution_count": 6,
      "outputs": [
        {
          "output_type": "execute_result",
          "data": {
            "text/plain": [
              "neighbourhood_group               0\n",
              "latitude                          0\n",
              "longitude                         0\n",
              "room_type                         0\n",
              "price                             0\n",
              "minimum_nights                    0\n",
              "number_of_reviews                 0\n",
              "reviews_per_month                 0\n",
              "calculated_host_listings_count    0\n",
              "availability_365                  0\n",
              "dtype: int64"
            ]
          },
          "metadata": {},
          "execution_count": 6
        }
      ]
    },
    {
      "cell_type": "markdown",
      "metadata": {
        "id": "xOq55R2Y-fXm"
      },
      "source": [
        "## Questions"
      ]
    },
    {
      "cell_type": "markdown",
      "metadata": {
        "id": "XiWdtJFt-hku"
      },
      "source": [
        "### Question 1\n",
        "\n",
        "What is the most frequent observation (mode) for the column 'neighbourhood_group'?"
      ]
    },
    {
      "cell_type": "code",
      "metadata": {
        "colab": {
          "base_uri": "https://localhost:8080/"
        },
        "id": "Ei6QUhab-FYL",
        "outputId": "00cf3925-91b8-41d8-e80b-a075c9acf490"
      },
      "source": [
        "df['neighbourhood_group'].mode()"
      ],
      "execution_count": 7,
      "outputs": [
        {
          "output_type": "execute_result",
          "data": {
            "text/plain": [
              "0    Manhattan\n",
              "dtype: object"
            ]
          },
          "metadata": {},
          "execution_count": 7
        }
      ]
    },
    {
      "cell_type": "markdown",
      "metadata": {
        "id": "FLb6vMe9-3Dn"
      },
      "source": [
        "### Split the data\n",
        "\n",
        "- Split your data in train/val/test sets, with 60%/20%/20% distribution.\n",
        "- Use Scikit-Learn for that (the train_test_split function) and set the seed to 42.\n",
        "- Make sure that the target value ('price') is not in your dataframe.\n",
        "\n"
      ]
    },
    {
      "cell_type": "code",
      "metadata": {
        "colab": {
          "base_uri": "https://localhost:8080/"
        },
        "id": "QzOIfpRPgUqc",
        "outputId": "b4e456fd-83fd-4e94-f4ef-5da0e7df2279"
      },
      "source": [
        "df_train_full, df_test = train_test_split(df, test_size=0.2, random_state=42)\n",
        "\n",
        "print(df_train_full.shape)\n",
        "print(df_test.shape)"
      ],
      "execution_count": 8,
      "outputs": [
        {
          "output_type": "stream",
          "name": "stdout",
          "text": [
            "(39116, 10)\n",
            "(9779, 10)\n"
          ]
        }
      ]
    },
    {
      "cell_type": "code",
      "metadata": {
        "colab": {
          "base_uri": "https://localhost:8080/"
        },
        "id": "-fZqY3F_giYV",
        "outputId": "861dabd1-353d-433b-ba79-2745dd961848"
      },
      "source": [
        "df_train, df_val = train_test_split(df_train_full, test_size=0.2, random_state=42)\n",
        "\n",
        "print(df_train.shape)\n",
        "print(df_val.shape)"
      ],
      "execution_count": 9,
      "outputs": [
        {
          "output_type": "stream",
          "name": "stdout",
          "text": [
            "(31292, 10)\n",
            "(7824, 10)\n"
          ]
        }
      ]
    },
    {
      "cell_type": "code",
      "metadata": {
        "colab": {
          "base_uri": "https://localhost:8080/"
        },
        "id": "1qQl8ZlR_a3Y",
        "outputId": "af43a43b-db05-4c02-e12e-3b9ca0ffe125"
      },
      "source": [
        "X_train = df_train.drop('price', axis=1)\n",
        "X_val = df_val.drop('price', axis=1)\n",
        "X_test = df_test.drop('price', axis=1)\n",
        "\n",
        "y_train = df_train.price.values\n",
        "y_val = df_val.price.values\n",
        "y_test = df_test.price.values\n",
        "\n",
        "print(X_train.shape, y_train.shape)\n",
        "print(X_val.shape, y_val.shape)\n",
        "print(X_test.shape, y_test.shape)"
      ],
      "execution_count": 10,
      "outputs": [
        {
          "output_type": "stream",
          "name": "stdout",
          "text": [
            "(31292, 9) (31292,)\n",
            "(7824, 9) (7824,)\n",
            "(9779, 9) (9779,)\n"
          ]
        }
      ]
    },
    {
      "cell_type": "markdown",
      "metadata": {
        "id": "4GNQA27Q_r61"
      },
      "source": [
        "### Question 2\n",
        "\n",
        "- Create the correlation matrix for the numerical features of your train dataset.\n",
        "  - In a correlation matrix, you compute the correlation coefficient between every pair of features in the dataset.\n",
        "- What are the two features that have the biggest correlation in this dataset?\n"
      ]
    },
    {
      "cell_type": "code",
      "metadata": {
        "colab": {
          "base_uri": "https://localhost:8080/",
          "height": 269
        },
        "id": "Z9oAE4ah_nKA",
        "outputId": "d6b936d3-9ccd-47b5-dd45-b6e90117cd04"
      },
      "source": [
        "train_corr = X_train.select_dtypes(exclude='object').corr()\n",
        "train_corr"
      ],
      "execution_count": 11,
      "outputs": [
        {
          "output_type": "execute_result",
          "data": {
            "text/html": [
              "<div>\n",
              "<style scoped>\n",
              "    .dataframe tbody tr th:only-of-type {\n",
              "        vertical-align: middle;\n",
              "    }\n",
              "\n",
              "    .dataframe tbody tr th {\n",
              "        vertical-align: top;\n",
              "    }\n",
              "\n",
              "    .dataframe thead th {\n",
              "        text-align: right;\n",
              "    }\n",
              "</style>\n",
              "<table border=\"1\" class=\"dataframe\">\n",
              "  <thead>\n",
              "    <tr style=\"text-align: right;\">\n",
              "      <th></th>\n",
              "      <th>latitude</th>\n",
              "      <th>longitude</th>\n",
              "      <th>minimum_nights</th>\n",
              "      <th>number_of_reviews</th>\n",
              "      <th>reviews_per_month</th>\n",
              "      <th>calculated_host_listings_count</th>\n",
              "      <th>availability_365</th>\n",
              "    </tr>\n",
              "  </thead>\n",
              "  <tbody>\n",
              "    <tr>\n",
              "      <th>latitude</th>\n",
              "      <td>1.000000</td>\n",
              "      <td>0.082567</td>\n",
              "      <td>0.024824</td>\n",
              "      <td>-0.007411</td>\n",
              "      <td>-0.009479</td>\n",
              "      <td>0.019051</td>\n",
              "      <td>-0.006793</td>\n",
              "    </tr>\n",
              "    <tr>\n",
              "      <th>longitude</th>\n",
              "      <td>0.082567</td>\n",
              "      <td>1.000000</td>\n",
              "      <td>-0.061049</td>\n",
              "      <td>0.055967</td>\n",
              "      <td>0.134702</td>\n",
              "      <td>-0.116155</td>\n",
              "      <td>0.083446</td>\n",
              "    </tr>\n",
              "    <tr>\n",
              "      <th>minimum_nights</th>\n",
              "      <td>0.024824</td>\n",
              "      <td>-0.061049</td>\n",
              "      <td>1.000000</td>\n",
              "      <td>-0.074459</td>\n",
              "      <td>-0.118436</td>\n",
              "      <td>0.114218</td>\n",
              "      <td>0.136383</td>\n",
              "    </tr>\n",
              "    <tr>\n",
              "      <th>number_of_reviews</th>\n",
              "      <td>-0.007411</td>\n",
              "      <td>0.055967</td>\n",
              "      <td>-0.074459</td>\n",
              "      <td>1.000000</td>\n",
              "      <td>0.591234</td>\n",
              "      <td>-0.072782</td>\n",
              "      <td>0.174931</td>\n",
              "    </tr>\n",
              "    <tr>\n",
              "      <th>reviews_per_month</th>\n",
              "      <td>-0.009479</td>\n",
              "      <td>0.134702</td>\n",
              "      <td>-0.118436</td>\n",
              "      <td>0.591234</td>\n",
              "      <td>1.000000</td>\n",
              "      <td>-0.047711</td>\n",
              "      <td>0.166007</td>\n",
              "    </tr>\n",
              "    <tr>\n",
              "      <th>calculated_host_listings_count</th>\n",
              "      <td>0.019051</td>\n",
              "      <td>-0.116155</td>\n",
              "      <td>0.114218</td>\n",
              "      <td>-0.072782</td>\n",
              "      <td>-0.047711</td>\n",
              "      <td>1.000000</td>\n",
              "      <td>0.226329</td>\n",
              "    </tr>\n",
              "    <tr>\n",
              "      <th>availability_365</th>\n",
              "      <td>-0.006793</td>\n",
              "      <td>0.083446</td>\n",
              "      <td>0.136383</td>\n",
              "      <td>0.174931</td>\n",
              "      <td>0.166007</td>\n",
              "      <td>0.226329</td>\n",
              "      <td>1.000000</td>\n",
              "    </tr>\n",
              "  </tbody>\n",
              "</table>\n",
              "</div>"
            ],
            "text/plain": [
              "                                latitude  ...  availability_365\n",
              "latitude                        1.000000  ...         -0.006793\n",
              "longitude                       0.082567  ...          0.083446\n",
              "minimum_nights                  0.024824  ...          0.136383\n",
              "number_of_reviews              -0.007411  ...          0.174931\n",
              "reviews_per_month              -0.009479  ...          0.166007\n",
              "calculated_host_listings_count  0.019051  ...          0.226329\n",
              "availability_365               -0.006793  ...          1.000000\n",
              "\n",
              "[7 rows x 7 columns]"
            ]
          },
          "metadata": {},
          "execution_count": 11
        }
      ]
    },
    {
      "cell_type": "markdown",
      "metadata": {
        "id": "HdDQ8dnFAQlA"
      },
      "source": [
        "Features with the biggest correlation in the dataset:\n",
        "- `calculated_host_listings_count`\n",
        "- `availability_365`"
      ]
    },
    {
      "cell_type": "markdown",
      "metadata": {
        "id": "CFPL6wG0AdIM"
      },
      "source": [
        "### Make price binary\n",
        "\n",
        "- We need to turn the price variable from numeric into binary.\n",
        "- Let's create a variable `above_average` which is 1 if the price is above (or equal to) 152.\n"
      ]
    },
    {
      "cell_type": "code",
      "metadata": {
        "id": "G41bg37A__go"
      },
      "source": [
        "y_train_above_average = (y_train >= 152).astype(int)\n",
        "y_val_above_average = (y_val >= 152).astype(int)\n",
        "y_test_above_average = (y_test >= 152).astype(int)"
      ],
      "execution_count": 12,
      "outputs": []
    },
    {
      "cell_type": "markdown",
      "metadata": {
        "id": "KE3GchrtA8vL"
      },
      "source": [
        "### Question 3\n",
        "\n",
        "- Calculate the mutual information score with the (binarized) price for the two categorical variables that we have. Use the training set only.\n",
        "- Which of these two variables has bigger score?\n",
        "- Round it to 2 decimal digits using round(score, 2)\n"
      ]
    },
    {
      "cell_type": "code",
      "metadata": {
        "colab": {
          "base_uri": "https://localhost:8080/"
        },
        "id": "UsZBPNkGA5Qo",
        "outputId": "e0757579-c0ce-4f24-b43b-b14038e97060"
      },
      "source": [
        "cat_cols = ['neighbourhood_group', 'room_type']\n",
        "\n",
        "for col in cat_cols:\n",
        "  print(col, round(mutual_info_score(y_train_above_average, X_train[col]), 2))"
      ],
      "execution_count": 13,
      "outputs": [
        {
          "output_type": "stream",
          "name": "stdout",
          "text": [
            "neighbourhood_group 0.05\n",
            "room_type 0.14\n"
          ]
        }
      ]
    },
    {
      "cell_type": "markdown",
      "metadata": {
        "id": "GvaifUHPB99J"
      },
      "source": [
        "`room_type` has bigger mutual information score"
      ]
    },
    {
      "cell_type": "markdown",
      "metadata": {
        "id": "kp8SaO45CJI9"
      },
      "source": [
        "### Question 4\n",
        "\n",
        "- Now let's train a logistic regression\n",
        "- Remember that we have two categorical variables in the data. Include them using one-hot encoding.\n",
        "- Fit the model on the training dataset.\n",
        "  - To make sure the results are reproducible across different versions of Scikit-Learn, fit the model with these parameters:\n",
        "  - model = LogisticRegression(solver='lbfgs', C=1.0, random_state=42)\n",
        "- Calculate the accuracy on the validation dataset and round it to 2 decimal digits.\n"
      ]
    },
    {
      "cell_type": "code",
      "metadata": {
        "id": "qd9kflhYXPPz"
      },
      "source": [
        "# Handle categorical variables\n",
        "# 1. Create dummies for categorical columns in Train, Val, Test\n",
        "X_train_cat_cols = pd.get_dummies(X_train[cat_cols], drop_first=True)\n",
        "X_val_cat_cols = pd.get_dummies(X_val[cat_cols], drop_first=True)\n",
        "X_test_cat_cols = pd.get_dummies(X_test[cat_cols], drop_first=True)\n",
        "\n",
        "# 2. Concatenate dummy cols in existing Train, Val, Test\n",
        "X_train_ohe = pd.concat([X_train, X_train_cat_cols], axis=1)\n",
        "X_val_ohe = pd.concat([X_val, X_val_cat_cols], axis=1)\n",
        "X_test_ohe = pd.concat([X_test, X_test_cat_cols], axis=1)\n",
        "\n",
        "# 3. Drop original cols in Train, Val, Test\n",
        "X_train_ohe.drop(cat_cols, axis=1, inplace=True)\n",
        "X_val_ohe.drop(cat_cols, axis=1, inplace=True)\n",
        "X_test_ohe.drop(cat_cols, axis=1, inplace=True)"
      ],
      "execution_count": 14,
      "outputs": []
    },
    {
      "cell_type": "code",
      "metadata": {
        "colab": {
          "base_uri": "https://localhost:8080/",
          "height": 244
        },
        "id": "OG-yBoUgalA3",
        "outputId": "44613d34-b997-45c1-a983-9927bd34795e"
      },
      "source": [
        "X_train_ohe.head()"
      ],
      "execution_count": 15,
      "outputs": [
        {
          "output_type": "execute_result",
          "data": {
            "text/html": [
              "<div>\n",
              "<style scoped>\n",
              "    .dataframe tbody tr th:only-of-type {\n",
              "        vertical-align: middle;\n",
              "    }\n",
              "\n",
              "    .dataframe tbody tr th {\n",
              "        vertical-align: top;\n",
              "    }\n",
              "\n",
              "    .dataframe thead th {\n",
              "        text-align: right;\n",
              "    }\n",
              "</style>\n",
              "<table border=\"1\" class=\"dataframe\">\n",
              "  <thead>\n",
              "    <tr style=\"text-align: right;\">\n",
              "      <th></th>\n",
              "      <th>latitude</th>\n",
              "      <th>longitude</th>\n",
              "      <th>minimum_nights</th>\n",
              "      <th>number_of_reviews</th>\n",
              "      <th>reviews_per_month</th>\n",
              "      <th>calculated_host_listings_count</th>\n",
              "      <th>availability_365</th>\n",
              "      <th>neighbourhood_group_Brooklyn</th>\n",
              "      <th>neighbourhood_group_Manhattan</th>\n",
              "      <th>neighbourhood_group_Queens</th>\n",
              "      <th>neighbourhood_group_Staten Island</th>\n",
              "      <th>room_type_Private room</th>\n",
              "      <th>room_type_Shared room</th>\n",
              "    </tr>\n",
              "  </thead>\n",
              "  <tbody>\n",
              "    <tr>\n",
              "      <th>32249</th>\n",
              "      <td>40.71754</td>\n",
              "      <td>-73.95906</td>\n",
              "      <td>2</td>\n",
              "      <td>15</td>\n",
              "      <td>1.14</td>\n",
              "      <td>1</td>\n",
              "      <td>0</td>\n",
              "      <td>1</td>\n",
              "      <td>0</td>\n",
              "      <td>0</td>\n",
              "      <td>0</td>\n",
              "      <td>0</td>\n",
              "      <td>0</td>\n",
              "    </tr>\n",
              "    <tr>\n",
              "      <th>15113</th>\n",
              "      <td>40.78784</td>\n",
              "      <td>-73.94998</td>\n",
              "      <td>5</td>\n",
              "      <td>88</td>\n",
              "      <td>2.23</td>\n",
              "      <td>1</td>\n",
              "      <td>326</td>\n",
              "      <td>0</td>\n",
              "      <td>1</td>\n",
              "      <td>0</td>\n",
              "      <td>0</td>\n",
              "      <td>0</td>\n",
              "      <td>0</td>\n",
              "    </tr>\n",
              "    <tr>\n",
              "      <th>23032</th>\n",
              "      <td>40.73580</td>\n",
              "      <td>-73.98890</td>\n",
              "      <td>1</td>\n",
              "      <td>68</td>\n",
              "      <td>2.67</td>\n",
              "      <td>1</td>\n",
              "      <td>324</td>\n",
              "      <td>0</td>\n",
              "      <td>1</td>\n",
              "      <td>0</td>\n",
              "      <td>0</td>\n",
              "      <td>0</td>\n",
              "      <td>0</td>\n",
              "    </tr>\n",
              "    <tr>\n",
              "      <th>21109</th>\n",
              "      <td>40.70921</td>\n",
              "      <td>-73.94144</td>\n",
              "      <td>1</td>\n",
              "      <td>2</td>\n",
              "      <td>0.07</td>\n",
              "      <td>1</td>\n",
              "      <td>0</td>\n",
              "      <td>1</td>\n",
              "      <td>0</td>\n",
              "      <td>0</td>\n",
              "      <td>0</td>\n",
              "      <td>1</td>\n",
              "      <td>0</td>\n",
              "    </tr>\n",
              "    <tr>\n",
              "      <th>23025</th>\n",
              "      <td>40.72410</td>\n",
              "      <td>-73.98959</td>\n",
              "      <td>7</td>\n",
              "      <td>9</td>\n",
              "      <td>0.35</td>\n",
              "      <td>1</td>\n",
              "      <td>0</td>\n",
              "      <td>0</td>\n",
              "      <td>1</td>\n",
              "      <td>0</td>\n",
              "      <td>0</td>\n",
              "      <td>0</td>\n",
              "      <td>0</td>\n",
              "    </tr>\n",
              "  </tbody>\n",
              "</table>\n",
              "</div>"
            ],
            "text/plain": [
              "       latitude  longitude  ...  room_type_Private room  room_type_Shared room\n",
              "32249  40.71754  -73.95906  ...                       0                      0\n",
              "15113  40.78784  -73.94998  ...                       0                      0\n",
              "23032  40.73580  -73.98890  ...                       0                      0\n",
              "21109  40.70921  -73.94144  ...                       1                      0\n",
              "23025  40.72410  -73.98959  ...                       0                      0\n",
              "\n",
              "[5 rows x 13 columns]"
            ]
          },
          "metadata": {},
          "execution_count": 15
        }
      ]
    },
    {
      "cell_type": "code",
      "metadata": {
        "colab": {
          "base_uri": "https://localhost:8080/"
        },
        "id": "RGnmS2mMa-0x",
        "outputId": "9984b8b9-78ef-4928-9b95-a3d82689890f"
      },
      "source": [
        "y_train[:10]"
      ],
      "execution_count": 16,
      "outputs": [
        {
          "output_type": "execute_result",
          "data": {
            "text/plain": [
              "array([125, 149, 287,  77, 133,  88,  62,  49, 300,  40])"
            ]
          },
          "metadata": {},
          "execution_count": 16
        }
      ]
    },
    {
      "cell_type": "code",
      "metadata": {
        "colab": {
          "base_uri": "https://localhost:8080/"
        },
        "id": "l04sJYrrar2V",
        "outputId": "c99698a7-2807-458f-9ea7-2074b69e3ee4"
      },
      "source": [
        "y_train_above_average[:10]"
      ],
      "execution_count": 17,
      "outputs": [
        {
          "output_type": "execute_result",
          "data": {
            "text/plain": [
              "array([0, 0, 1, 0, 0, 0, 0, 0, 1, 0])"
            ]
          },
          "metadata": {},
          "execution_count": 17
        }
      ]
    },
    {
      "cell_type": "code",
      "metadata": {
        "colab": {
          "base_uri": "https://localhost:8080/"
        },
        "id": "AQyM3Q7oB5ha",
        "outputId": "ec66714e-62c7-41f1-ecf9-2045f38f9ea0"
      },
      "source": [
        "lr = LogisticRegression(solver = 'lbfgs', C=1.0, random_state=42)\n",
        "lr.fit(X_train_ohe, y_train_above_average)"
      ],
      "execution_count": 18,
      "outputs": [
        {
          "output_type": "stream",
          "name": "stderr",
          "text": [
            "/usr/local/lib/python3.7/dist-packages/sklearn/linear_model/_logistic.py:940: ConvergenceWarning: lbfgs failed to converge (status=1):\n",
            "STOP: TOTAL NO. of ITERATIONS REACHED LIMIT.\n",
            "\n",
            "Increase the number of iterations (max_iter) or scale the data as shown in:\n",
            "    https://scikit-learn.org/stable/modules/preprocessing.html\n",
            "Please also refer to the documentation for alternative solver options:\n",
            "    https://scikit-learn.org/stable/modules/linear_model.html#logistic-regression\n",
            "  extra_warning_msg=_LOGISTIC_SOLVER_CONVERGENCE_MSG)\n"
          ]
        },
        {
          "output_type": "execute_result",
          "data": {
            "text/plain": [
              "LogisticRegression(C=1.0, class_weight=None, dual=False, fit_intercept=True,\n",
              "                   intercept_scaling=1, l1_ratio=None, max_iter=100,\n",
              "                   multi_class='auto', n_jobs=None, penalty='l2',\n",
              "                   random_state=42, solver='lbfgs', tol=0.0001, verbose=0,\n",
              "                   warm_start=False)"
            ]
          },
          "metadata": {},
          "execution_count": 18
        }
      ]
    },
    {
      "cell_type": "code",
      "metadata": {
        "colab": {
          "base_uri": "https://localhost:8080/"
        },
        "id": "h64GEibmYWl6",
        "outputId": "70fe0368-337d-4033-8a17-e3c9a42510c6"
      },
      "source": [
        "y_val_preds = lr.predict(X_val_ohe)\n",
        "print('Accuracy (val):', round(accuracy_score(y_val_above_average, y_val_preds), 2))"
      ],
      "execution_count": 19,
      "outputs": [
        {
          "output_type": "stream",
          "name": "stdout",
          "text": [
            "Accuracy (val): 0.79\n"
          ]
        }
      ]
    },
    {
      "cell_type": "markdown",
      "metadata": {
        "id": "DQSJSUU2bME8"
      },
      "source": [
        "Accuracy on validation set is 79%"
      ]
    },
    {
      "cell_type": "markdown",
      "metadata": {
        "id": "tToou9_-bR2T"
      },
      "source": [
        "### Question 5\n",
        "\n",
        "- We have 9 features: 7 numerical features and 2 categorical.\n",
        "- Let's find the least useful one using the feature elimination technique.\n",
        "- Train a model with all these features (using the same parameters as in Q4).\n",
        "- Now exclude each feature from this set and train a model without it. Record the accuracy for each model.\n",
        "- For each feature, calculate the difference between the original accuracy and the accuracy without the feature.\n",
        "- Which of following feature has the smallest difference?\n",
        "  - neighbourhood_group\n",
        "  - room_type\n",
        "  - number_of_reviews\n",
        "  - reviews_per_month\n"
      ]
    },
    {
      "cell_type": "code",
      "metadata": {
        "id": "Hx45phr-aaYJ"
      },
      "source": [
        "# Mutual info score\n",
        "def mutual_info_w_price_train_score(series):\n",
        "  return mutual_info_score(series, y_train_above_average)"
      ],
      "execution_count": 20,
      "outputs": []
    },
    {
      "cell_type": "code",
      "metadata": {
        "colab": {
          "base_uri": "https://localhost:8080/"
        },
        "id": "D9VMIg7XdAOJ",
        "outputId": "e706a0ec-e64d-460b-8a47-3f7b1c35db01"
      },
      "source": [
        "df_train[cat_cols].apply(mutual_info_w_price_train_score)"
      ],
      "execution_count": 21,
      "outputs": [
        {
          "output_type": "execute_result",
          "data": {
            "text/plain": [
              "neighbourhood_group    0.046690\n",
              "room_type              0.142102\n",
              "dtype: float64"
            ]
          },
          "metadata": {},
          "execution_count": 21
        }
      ]
    },
    {
      "cell_type": "code",
      "metadata": {
        "colab": {
          "base_uri": "https://localhost:8080/"
        },
        "id": "yv_S-3zrd4iX",
        "outputId": "490d97c8-e23f-4cd4-e6a8-93212eb81ba0"
      },
      "source": [
        "# Correlation\n",
        "df_train['price_above_average'] = (df_train['price'] >= 152).astype(int)\n",
        "corr_scores = df_train.drop(['price', 'price_above_average'], axis=1).select_dtypes(exclude='object').corrwith(df_train.price_above_average).abs()\n",
        "corr_scores.sort_values(ascending=False)"
      ],
      "execution_count": 24,
      "outputs": [
        {
          "output_type": "stream",
          "name": "stderr",
          "text": [
            "/usr/local/lib/python3.7/dist-packages/ipykernel_launcher.py:2: SettingWithCopyWarning: \n",
            "A value is trying to be set on a copy of a slice from a DataFrame.\n",
            "Try using .loc[row_indexer,col_indexer] = value instead\n",
            "\n",
            "See the caveats in the documentation: https://pandas.pydata.org/pandas-docs/stable/user_guide/indexing.html#returning-a-view-versus-a-copy\n",
            "  \n"
          ]
        },
        {
          "output_type": "execute_result",
          "data": {
            "text/plain": [
              "longitude                         0.266868\n",
              "calculated_host_listings_count    0.172242\n",
              "availability_365                  0.103098\n",
              "latitude                          0.057347\n",
              "reviews_per_month                 0.056029\n",
              "number_of_reviews                 0.055563\n",
              "minimum_nights                    0.030924\n",
              "dtype: float64"
            ]
          },
          "metadata": {},
          "execution_count": 24
        }
      ]
    },
    {
      "cell_type": "code",
      "metadata": {
        "id": "P5wbr5LkjFqS"
      },
      "source": [
        ""
      ],
      "execution_count": null,
      "outputs": []
    },
    {
      "cell_type": "code",
      "metadata": {
        "id": "THg5hH4-eoSB"
      },
      "source": [
        "features = ['neighbourhood_group','room_type', 'number_of_reviews', 'reviews_per_month']\n",
        "cat_cols = ['neighbourhood_group','room_type']"
      ],
      "execution_count": 28,
      "outputs": []
    },
    {
      "cell_type": "code",
      "metadata": {
        "id": "WYT1vQodkPZA"
      },
      "source": [
        "def convert_ohe(df, cat_cols):\n",
        "  dummies = pd.get_dummies(df[cat_cols], drop_first=True)\n",
        "  df_ohe_ = pd.concat([df, dummies], axis=1)\n",
        "  df_ohe_.drop(cat_cols, axis=1, inplace=True)\n",
        "  return df_ohe_"
      ],
      "execution_count": 30,
      "outputs": []
    },
    {
      "cell_type": "code",
      "metadata": {
        "id": "d3EIhwRzjLFp"
      },
      "source": [
        "def train_model_acc_on_val(feature_list, cat_cols):\n",
        "  X_train_ohe_ = convert_ohe(df_train[feature_list], cat_cols)\n",
        "  X_val_ohe_ = convert_ohe(df_val[feature_list], cat_cols)\n",
        "\n",
        "  lr_ = LogisticRegression(solver = 'lbfgs', C=1.0, random_state=42)\n",
        "  lr_.fit(X_train_ohe_, y_train_above_average)\n",
        "  \n",
        "  y_val_preds_ = lr_.predict(X_val_ohe_)\n",
        "  return accuracy_score(y_val_above_average, y_val_preds_)\n"
      ],
      "execution_count": 47,
      "outputs": []
    },
    {
      "cell_type": "code",
      "metadata": {
        "colab": {
          "base_uri": "https://localhost:8080/"
        },
        "id": "TcodOto7lYRK",
        "outputId": "4133c094-044a-4f27-c2b7-09d70b753ece"
      },
      "source": [
        "orig_acc = train_model_acc_on_val(features, cat_cols)\n",
        "print('Original accuracy', orig_acc)"
      ],
      "execution_count": 48,
      "outputs": [
        {
          "output_type": "stream",
          "name": "stdout",
          "text": [
            "Original accuracy 0.7792689161554193\n"
          ]
        },
        {
          "output_type": "stream",
          "name": "stderr",
          "text": [
            "/usr/local/lib/python3.7/dist-packages/sklearn/linear_model/_logistic.py:940: ConvergenceWarning: lbfgs failed to converge (status=1):\n",
            "STOP: TOTAL NO. of ITERATIONS REACHED LIMIT.\n",
            "\n",
            "Increase the number of iterations (max_iter) or scale the data as shown in:\n",
            "    https://scikit-learn.org/stable/modules/preprocessing.html\n",
            "Please also refer to the documentation for alternative solver options:\n",
            "    https://scikit-learn.org/stable/modules/linear_model.html#logistic-regression\n",
            "  extra_warning_msg=_LOGISTIC_SOLVER_CONVERGENCE_MSG)\n"
          ]
        }
      ]
    },
    {
      "cell_type": "code",
      "metadata": {
        "colab": {
          "base_uri": "https://localhost:8080/"
        },
        "id": "kdGEcf0jlhOD",
        "outputId": "d3b1c0a9-205d-4598-93ef-ba3a2c67ba81"
      },
      "source": [
        "features_1 = ['room_type', 'number_of_reviews', 'reviews_per_month']\n",
        "cat_cols_1 = ['room_type']\n",
        "\n",
        "acc_1 = train_model_acc_on_val(features_1, cat_cols_1)\n",
        "print('Diff b/w original and current Accuracy w/o neighborhood_group', orig_acc - acc_1)"
      ],
      "execution_count": 49,
      "outputs": [
        {
          "output_type": "stream",
          "name": "stdout",
          "text": [
            "Diff b/w original and current Accuracy w/o neighborhood_group 0.04971881390593047\n"
          ]
        }
      ]
    },
    {
      "cell_type": "code",
      "metadata": {
        "colab": {
          "base_uri": "https://localhost:8080/"
        },
        "id": "AZGnoMtZmPSx",
        "outputId": "84ba16be-1adf-470a-a589-40172a6a1898"
      },
      "source": [
        "features_2 = ['neighbourhood_group', 'number_of_reviews', 'reviews_per_month']\n",
        "cat_cols_2 = ['neighbourhood_group']\n",
        "\n",
        "acc_2 = train_model_acc_on_val(features_2, cat_cols_2)\n",
        "print('Diff b/w original and current Accuracy w/o room_type', orig_acc - acc_2)"
      ],
      "execution_count": 50,
      "outputs": [
        {
          "output_type": "stream",
          "name": "stdout",
          "text": [
            "Diff b/w original and current Accuracy w/o room_type 0.09061860940695299\n"
          ]
        }
      ]
    },
    {
      "cell_type": "code",
      "metadata": {
        "colab": {
          "base_uri": "https://localhost:8080/"
        },
        "id": "lvbgJVMymYuC",
        "outputId": "99897013-006c-4720-9ccf-88c6ade8d1af"
      },
      "source": [
        "features_3 = ['neighbourhood_group', 'room_type', 'reviews_per_month']\n",
        "cat_cols_3 = ['neighbourhood_group', 'room_type']\n",
        "\n",
        "acc_3 = train_model_acc_on_val(features_3, cat_cols_3)\n",
        "print('Diff b/w original and current Accuracy w/o number_of_reviews', orig_acc - acc_3)"
      ],
      "execution_count": 51,
      "outputs": [
        {
          "output_type": "stream",
          "name": "stdout",
          "text": [
            "Diff b/w original and current Accuracy w/o number_of_reviews -0.0001278118609406853\n"
          ]
        }
      ]
    },
    {
      "cell_type": "code",
      "metadata": {
        "colab": {
          "base_uri": "https://localhost:8080/"
        },
        "id": "Ypp_WuR9nLdS",
        "outputId": "893d594a-e511-4963-d901-cda768aa75b2"
      },
      "source": [
        "features_4 = ['neighbourhood_group', 'room_type', 'number_of_reviews']\n",
        "cat_cols_4 = ['neighbourhood_group', 'room_type']\n",
        "\n",
        "acc_4 = train_model_acc_on_val(features_4, cat_cols_4)\n",
        "print('Diff b/w original and current Accuracy w/o reviews_per_month', orig_acc - acc_4)"
      ],
      "execution_count": 52,
      "outputs": [
        {
          "output_type": "stream",
          "name": "stdout",
          "text": [
            "Diff b/w original and current Accuracy w/o reviews_per_month 0.0\n"
          ]
        },
        {
          "output_type": "stream",
          "name": "stderr",
          "text": [
            "/usr/local/lib/python3.7/dist-packages/sklearn/linear_model/_logistic.py:940: ConvergenceWarning: lbfgs failed to converge (status=1):\n",
            "STOP: TOTAL NO. of ITERATIONS REACHED LIMIT.\n",
            "\n",
            "Increase the number of iterations (max_iter) or scale the data as shown in:\n",
            "    https://scikit-learn.org/stable/modules/preprocessing.html\n",
            "Please also refer to the documentation for alternative solver options:\n",
            "    https://scikit-learn.org/stable/modules/linear_model.html#logistic-regression\n",
            "  extra_warning_msg=_LOGISTIC_SOLVER_CONVERGENCE_MSG)\n"
          ]
        }
      ]
    },
    {
      "cell_type": "markdown",
      "metadata": {
        "id": "PkkBbkNGoyVX"
      },
      "source": [
        "`reviews_per_month` has the smallest difference among all features."
      ]
    },
    {
      "cell_type": "code",
      "metadata": {
        "id": "s8tppHTwn9ih"
      },
      "source": [
        ""
      ],
      "execution_count": null,
      "outputs": []
    }
  ]
}