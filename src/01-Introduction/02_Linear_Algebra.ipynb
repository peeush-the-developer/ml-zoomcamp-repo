{
 "cells": [
  {
   "cell_type": "code",
   "execution_count": 4,
   "id": "9a3ba19f",
   "metadata": {},
   "outputs": [],
   "source": [
    "import numpy as np\n"
   ]
  },
  {
   "cell_type": "markdown",
   "id": "15d70623",
   "metadata": {},
   "source": [
    "## Vector vector multiplication (dot product)"
   ]
  },
  {
   "cell_type": "code",
   "execution_count": 12,
   "id": "08873efe",
   "metadata": {},
   "outputs": [
    {
     "name": "stdout",
     "output_type": "stream",
     "text": [
      "[0 1 2 3 4]\n",
      "[6 3 7 4 6]\n"
     ]
    }
   ],
   "source": [
    "np.random.seed(42)\n",
    "\n",
    "u = np.arange(5)\n",
    "v = np.random.randint(0, 10, 5)\n",
    "\n",
    "print(u)\n",
    "print(v)"
   ]
  },
  {
   "cell_type": "code",
   "execution_count": 14,
   "id": "a30662da",
   "metadata": {},
   "outputs": [],
   "source": [
    "def vector_vector_mul(x, y):\n",
    "    assert x.shape[0] == y.shape[0]\n",
    "    \n",
    "    result = 0.0\n",
    "    for i in range(x.shape[0]):\n",
    "        result += x[i] * y[i]\n",
    "        \n",
    "    return result"
   ]
  },
  {
   "cell_type": "code",
   "execution_count": 15,
   "id": "61008452",
   "metadata": {},
   "outputs": [
    {
     "data": {
      "text/plain": [
       "53.0"
      ]
     },
     "execution_count": 15,
     "metadata": {},
     "output_type": "execute_result"
    }
   ],
   "source": [
    "vector_vector_mul(u, v)"
   ]
  },
  {
   "cell_type": "code",
   "execution_count": 16,
   "id": "dd87cfc2",
   "metadata": {},
   "outputs": [
    {
     "data": {
      "text/plain": [
       "53"
      ]
     },
     "execution_count": 16,
     "metadata": {},
     "output_type": "execute_result"
    }
   ],
   "source": [
    "u.dot(v)"
   ]
  },
  {
   "cell_type": "markdown",
   "id": "98dc35ae",
   "metadata": {},
   "source": [
    "## Matrix vector multiplication (dot product)"
   ]
  },
  {
   "cell_type": "code",
   "execution_count": 17,
   "id": "b465c3eb",
   "metadata": {},
   "outputs": [
    {
     "data": {
      "text/plain": [
       "array([[6, 3, 7, 4, 6],\n",
       "       [9, 2, 6, 7, 4],\n",
       "       [3, 7, 7, 2, 5]])"
      ]
     },
     "execution_count": 17,
     "metadata": {},
     "output_type": "execute_result"
    }
   ],
   "source": [
    "np.random.seed(42)\n",
    "\n",
    "U = np.random.randint(0, 10, (3,5))\n",
    "U"
   ]
  },
  {
   "cell_type": "code",
   "execution_count": 18,
   "id": "4b421c6f",
   "metadata": {},
   "outputs": [],
   "source": [
    "def matrix_vector_mul(X, y):\n",
    "    assert X.shape[1] == y.shape[0]\n",
    "    \n",
    "    n_rows = X.shape[0]\n",
    "    result = np.empty(n_rows)\n",
    "    \n",
    "    for i in range(n_rows):\n",
    "        result[i] = vector_vector_mul(X[i], y)\n",
    "    \n",
    "    return result"
   ]
  },
  {
   "cell_type": "code",
   "execution_count": 19,
   "id": "caf7e4dd",
   "metadata": {},
   "outputs": [
    {
     "data": {
      "text/plain": [
       "array([146., 154., 126.])"
      ]
     },
     "execution_count": 19,
     "metadata": {},
     "output_type": "execute_result"
    }
   ],
   "source": [
    "matrix_vector_mul(U, v)"
   ]
  },
  {
   "cell_type": "code",
   "execution_count": 20,
   "id": "f6e80b8c",
   "metadata": {},
   "outputs": [
    {
     "data": {
      "text/plain": [
       "array([146, 154, 126])"
      ]
     },
     "execution_count": 20,
     "metadata": {},
     "output_type": "execute_result"
    }
   ],
   "source": [
    "U.dot(v)"
   ]
  },
  {
   "cell_type": "markdown",
   "id": "8b968dd2",
   "metadata": {},
   "source": [
    "## Matrix-matrix multiplication"
   ]
  },
  {
   "cell_type": "code",
   "execution_count": 22,
   "id": "831a8226",
   "metadata": {},
   "outputs": [
    {
     "data": {
      "text/plain": [
       "array([[6, 3, 7],\n",
       "       [4, 6, 9],\n",
       "       [2, 6, 7],\n",
       "       [4, 3, 7],\n",
       "       [7, 2, 5]])"
      ]
     },
     "execution_count": 22,
     "metadata": {},
     "output_type": "execute_result"
    }
   ],
   "source": [
    "np.random.seed(42)\n",
    "V = np.random.randint(0, 10, (5,3))\n",
    "V"
   ]
  },
  {
   "cell_type": "code",
   "execution_count": 23,
   "id": "b7ff3568",
   "metadata": {},
   "outputs": [],
   "source": [
    "def matrix_matrix_mul(X, Y):\n",
    "    assert X.shape[1] == Y.shape[0]\n",
    "    \n",
    "    n_rows = X.shape[0]\n",
    "    n_cols = Y.shape[1]\n",
    "    result = np.empty((n_rows, n_cols))\n",
    "    for i in range(n_cols):\n",
    "        result[:, i] = matrix_vector_mul(X, Y[:, i])\n",
    "        \n",
    "    return result"
   ]
  },
  {
   "cell_type": "code",
   "execution_count": 24,
   "id": "acd03a80",
   "metadata": {},
   "outputs": [
    {
     "data": {
      "text/plain": [
       "array([[120., 102., 176.],\n",
       "       [130., 104., 192.],\n",
       "       [103., 109., 172.]])"
      ]
     },
     "execution_count": 24,
     "metadata": {},
     "output_type": "execute_result"
    }
   ],
   "source": [
    "matrix_matrix_mul(U, V)"
   ]
  },
  {
   "cell_type": "code",
   "execution_count": 25,
   "id": "f016973c",
   "metadata": {},
   "outputs": [
    {
     "data": {
      "text/plain": [
       "array([[120, 102, 176],\n",
       "       [130, 104, 192],\n",
       "       [103, 109, 172]])"
      ]
     },
     "execution_count": 25,
     "metadata": {},
     "output_type": "execute_result"
    }
   ],
   "source": [
    "U.dot(V)"
   ]
  },
  {
   "cell_type": "markdown",
   "id": "7dc1b024",
   "metadata": {},
   "source": [
    "## Identity matrix"
   ]
  },
  {
   "cell_type": "code",
   "execution_count": 26,
   "id": "d4c6ca6f",
   "metadata": {},
   "outputs": [
    {
     "data": {
      "text/plain": [
       "array([[1., 0., 0.],\n",
       "       [0., 1., 0.],\n",
       "       [0., 0., 1.]])"
      ]
     },
     "execution_count": 26,
     "metadata": {},
     "output_type": "execute_result"
    }
   ],
   "source": [
    "I_3 = np.eye(3)\n",
    "I_3"
   ]
  },
  {
   "cell_type": "code",
   "execution_count": 27,
   "id": "5158eeed",
   "metadata": {},
   "outputs": [
    {
     "data": {
      "text/plain": [
       "array([[6, 3, 7],\n",
       "       [4, 6, 9],\n",
       "       [2, 6, 7]])"
      ]
     },
     "execution_count": 27,
     "metadata": {},
     "output_type": "execute_result"
    }
   ],
   "source": [
    "np.random.seed(42)\n",
    "U = np.random.randint(0, 10, (3, 3))\n",
    "U"
   ]
  },
  {
   "cell_type": "code",
   "execution_count": 28,
   "id": "950c8305",
   "metadata": {},
   "outputs": [
    {
     "data": {
      "text/plain": [
       "array([[6., 3., 7.],\n",
       "       [4., 6., 9.],\n",
       "       [2., 6., 7.]])"
      ]
     },
     "execution_count": 28,
     "metadata": {},
     "output_type": "execute_result"
    }
   ],
   "source": [
    "U.dot(I_3)"
   ]
  },
  {
   "cell_type": "code",
   "execution_count": 29,
   "id": "8fb327d4",
   "metadata": {},
   "outputs": [
    {
     "data": {
      "text/plain": [
       "array([[6., 3., 7.],\n",
       "       [4., 6., 9.],\n",
       "       [2., 6., 7.]])"
      ]
     },
     "execution_count": 29,
     "metadata": {},
     "output_type": "execute_result"
    }
   ],
   "source": [
    "I_3.dot(U)"
   ]
  },
  {
   "cell_type": "markdown",
   "id": "eda15d4b",
   "metadata": {},
   "source": [
    "## Inverse matrix"
   ]
  },
  {
   "cell_type": "code",
   "execution_count": 30,
   "id": "f91fb821",
   "metadata": {},
   "outputs": [
    {
     "data": {
      "text/plain": [
       "array([[ 0.66666667, -1.16666667,  0.83333333],\n",
       "       [ 0.55555556, -1.55555556,  1.44444444],\n",
       "       [-0.66666667,  1.66666667, -1.33333333]])"
      ]
     },
     "execution_count": 30,
     "metadata": {},
     "output_type": "execute_result"
    }
   ],
   "source": [
    "U_inv = np.linalg.inv(U)\n",
    "U_inv"
   ]
  },
  {
   "cell_type": "code",
   "execution_count": 31,
   "id": "fa67c100",
   "metadata": {},
   "outputs": [
    {
     "data": {
      "text/plain": [
       "array([[ 1.00000000e+00,  0.00000000e+00,  8.88178420e-16],\n",
       "       [ 5.55111512e-16,  1.00000000e+00,  2.66453526e-15],\n",
       "       [ 3.33066907e-16, -1.77635684e-15,  1.00000000e+00]])"
      ]
     },
     "execution_count": 31,
     "metadata": {},
     "output_type": "execute_result"
    }
   ],
   "source": [
    "U.dot(U_inv)"
   ]
  },
  {
   "cell_type": "code",
   "execution_count": 32,
   "id": "e8de122e",
   "metadata": {},
   "outputs": [
    {
     "data": {
      "text/plain": [
       "array([[ 1.00000000e+00,  2.44249065e-15,  3.44169138e-15],\n",
       "       [-4.44089210e-16,  1.00000000e+00,  2.22044605e-16],\n",
       "       [ 0.00000000e+00, -8.88178420e-16,  1.00000000e+00]])"
      ]
     },
     "execution_count": 32,
     "metadata": {},
     "output_type": "execute_result"
    }
   ],
   "source": [
    "U_inv.dot(U)"
   ]
  },
  {
   "cell_type": "code",
   "execution_count": null,
   "id": "1a2dd13b",
   "metadata": {},
   "outputs": [],
   "source": []
  }
 ],
 "metadata": {
  "kernelspec": {
   "display_name": "Python 3.8.6 64-bit ('base-ds-env': conda)",
   "language": "python",
   "name": "python386jvsc74a57bd0a0a31d72b0085f5c980b68e1210f459b51e3b6afa7d30eb3c393753e3e66f30a"
  },
  "language_info": {
   "codemirror_mode": {
    "name": "ipython",
    "version": 3
   },
   "file_extension": ".py",
   "mimetype": "text/x-python",
   "name": "python",
   "nbconvert_exporter": "python",
   "pygments_lexer": "ipython3",
   "version": "3.8.6"
  }
 },
 "nbformat": 4,
 "nbformat_minor": 5
}
